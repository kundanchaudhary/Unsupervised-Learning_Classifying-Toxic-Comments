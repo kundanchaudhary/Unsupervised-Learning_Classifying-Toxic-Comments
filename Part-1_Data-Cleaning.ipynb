{
 "cells": [
  {
   "cell_type": "markdown",
   "metadata": {},
   "source": [
    "# Part 1: Data Collection & Cleaning"
   ]
  },
  {
   "cell_type": "markdown",
   "metadata": {
    "toc": true
   },
   "source": [
    "<h1>Table of Contents<span class=\"tocSkip\"></span></h1>\n",
    "<div class=\"toc\"><ul class=\"toc-item\"><li><span><a href=\"#Problem-Statement-&amp;-Methodology\" data-toc-modified-id=\"Problem-Statement-&amp;-Methodology-1\"><span class=\"toc-item-num\">1&nbsp;&nbsp;</span>Problem Statement &amp; Methodology</a></span></li><li><span><a href=\"#Importing-Libraries\" data-toc-modified-id=\"Importing-Libraries-2\"><span class=\"toc-item-num\">2&nbsp;&nbsp;</span>Importing Libraries</a></span></li><li><span><a href=\"#Data-Collection\" data-toc-modified-id=\"Data-Collection-3\"><span class=\"toc-item-num\">3&nbsp;&nbsp;</span>Data Collection</a></span></li><li><span><a href=\"#Data-Preprocessing\" data-toc-modified-id=\"Data-Preprocessing-4\"><span class=\"toc-item-num\">4&nbsp;&nbsp;</span>Data Preprocessing</a></span></li><li><span><a href=\"#Word-Cloud\" data-toc-modified-id=\"Word-Cloud-5\"><span class=\"toc-item-num\">5&nbsp;&nbsp;</span>Word Cloud</a></span></li></ul></div>"
   ]
  },
  {
   "cell_type": "markdown",
   "metadata": {},
   "source": [
    "## Problem Statement & Methodology"
   ]
  },
  {
   "cell_type": "markdown",
   "metadata": {},
   "source": [
    "Expressing oneself on online media (such as Facebook, Twitter, and YouTube) is not so easy. It often comes with the threat of abuse and harassment. This may result in people stopping to express themselves or seeking alternative platforms to express their opinions. Similarly, online chat platforms struggle to facilitate conversations which result in completely removing user comments. Thus, a tool which can help improve online conversations is indispensable given the increasingly high number of people on online platforms. \n",
    "\n",
    "In this project, we perform topic modeling to find out different types of toxicity involved in the corpus. Furthermore, using the topics' weight matrix, number of words in each text, and clustering info. as features, we classify the texts into toxic and non-toxic categories."
   ]
  },
  {
   "cell_type": "markdown",
   "metadata": {},
   "source": [
    "## Importing Libraries"
   ]
  },
  {
   "cell_type": "code",
   "execution_count": 290,
   "metadata": {
    "ExecuteTime": {
     "end_time": "2020-05-21T05:07:08.107352Z",
     "start_time": "2020-05-21T05:07:08.068632Z"
    }
   },
   "outputs": [
    {
     "name": "stderr",
     "output_type": "stream",
     "text": [
      "[nltk_data] Downloading package punkt to /Users/chaudhary/nltk_data...\n",
      "[nltk_data]   Package punkt is already up-to-date!\n",
      "[nltk_data] Downloading package wordnet to\n",
      "[nltk_data]     /Users/chaudhary/nltk_data...\n",
      "[nltk_data]   Package wordnet is already up-to-date!\n",
      "[nltk_data] Downloading package stopwords to\n",
      "[nltk_data]     /Users/chaudhary/nltk_data...\n",
      "[nltk_data]   Package stopwords is already up-to-date!\n",
      "[nltk_data] Downloading package averaged_perceptron_tagger to\n",
      "[nltk_data]     /Users/chaudhary/nltk_data...\n",
      "[nltk_data]   Package averaged_perceptron_tagger is already up-to-\n",
      "[nltk_data]       date!\n"
     ]
    }
   ],
   "source": [
    "import pandas as pd\n",
    "import numpy as np\n",
    "import matplotlib.pyplot as plt\n",
    "import seaborn as sns\n",
    "import re\n",
    "import sys\n",
    "import os\n",
    "import copy\n",
    "import pickle \n",
    "import time\n",
    "import gensim\n",
    "import operator\n",
    "import string \n",
    "import nltk\n",
    "from nltk import Text\n",
    "from nltk.tokenize import regexp_tokenize, sent_tokenize, word_tokenize, TreebankWordTokenizer\n",
    "from nltk.corpus import stopwords\n",
    "from nltk.stem import WordNetLemmatizer, PorterStemmer\n",
    "from nltk.stem.snowball import SnowballStemmer\n",
    "from sklearn.feature_extraction.text import CountVectorizer, TfidfVectorizer\n",
    "from sklearn.decomposition import TruncatedSVD, NMF, PCA\n",
    "from sklearn.metrics.pairwise import cosine_similarity\n",
    "from sklearn.linear_model import LogisticRegression \n",
    "from sklearn.naive_bayes import MultinomialNB\n",
    "from sklearn.multiclass import OneVsRestClassifier\n",
    "from sklearn.preprocessing import StandardScaler\n",
    "from sklearn.model_selection import cross_val_score, train_test_split\n",
    "from sklearn import metrics\n",
    "from sklearn.metrics import classification_report, accuracy_score, confusion_matrix\n",
    "from sklearn.model_selection import GridSearchCV\n",
    "from sklearn.pipeline import make_pipeline\n",
    "from sklearn.cluster import KMeans, DBSCAN, SpectralClustering, MeanShift, estimate_bandwidth\n",
    "from sklearn.datasets.samples_generator import make_blobs\n",
    "from itertools import cycle\n",
    "from scipy.cluster.hierarchy import dendrogram, linkage\n",
    "from mpl_toolkits.mplot3d import Axes3D\n",
    "from sklearn.manifold import TSNE\n",
    "from sklearn import svm\n",
    "from gensim import corpora, models, similarities, matutils\n",
    "from mpl_toolkits import mplot3d\n",
    "import gensim.downloader as api\n",
    "import svdRec\n",
    "import spacy\n",
    "from functools import reduce\n",
    "nltk.download('punkt')\n",
    "nltk.download('wordnet')\n",
    "from sklearn.decomposition import LatentDirichletAllocation as LDA\n",
    "import wordcloud\n",
    "from wordcloud import WordCloud, STOPWORDS\n",
    "import gensim\n",
    "from gensim import corpora\n",
    "from nltk.corpus import stopwords\n",
    "nltk.download('stopwords')\n",
    "from spacy.lang.en import English\n",
    "from spacy.lang.en.stop_words import STOP_WORDS\n",
    "import pyLDAvis.gensim\n",
    "import gensim\n",
    "pyLDAvis.enable_notebook()\n",
    "from gensim.models import LdaModel\n",
    "from nltk import word_tokenize, pos_tag\n",
    "from gensim.models import CoherenceModel\n",
    "import pyLDAvis.sklearn\n",
    "import matplotlib.colors as mcolors\n",
    "from collections import Counter\n",
    "nltk.download('averaged_perceptron_tagger')\n",
    "import logging\n",
    "logging.basicConfig(format='%(asctime)s : %(levelname)s : %(message)s', level=logging.INFO)\n",
    "%config InlineBackend.figure_formats = ['retina']\n",
    "%matplotlib inline\n",
    "sys.setrecursionlimit(2*10**6) \n",
    "\n",
    "import warnings\n",
    "warnings.filterwarnings('ignore');"
   ]
  },
  {
   "cell_type": "markdown",
   "metadata": {},
   "source": [
    "## Data Collection"
   ]
  },
  {
   "cell_type": "markdown",
   "metadata": {},
   "source": [
    "__Kaggle Dataset__"
   ]
  },
  {
   "cell_type": "markdown",
   "metadata": {},
   "source": [
    "We obtained the dataset from Kaggle competition (https://www.kaggle.com/c/jigsaw-toxic-comment-classification-challenge/overview) which contains a large number of Wikipedia comments."
   ]
  },
  {
   "cell_type": "markdown",
   "metadata": {},
   "source": [
    "__Loading Kaggle Dataset:__"
   ]
  },
  {
   "cell_type": "code",
   "execution_count": 291,
   "metadata": {
    "ExecuteTime": {
     "end_time": "2020-05-21T05:07:34.663052Z",
     "start_time": "2020-05-21T05:07:33.696217Z"
    }
   },
   "outputs": [],
   "source": [
    "# Reading Kaggle Dataset\n",
    "kaggle_data = pd.read_csv('../train.csv')"
   ]
  },
  {
   "cell_type": "code",
   "execution_count": 292,
   "metadata": {
    "ExecuteTime": {
     "end_time": "2020-05-21T05:07:39.879548Z",
     "start_time": "2020-05-21T05:07:39.862458Z"
    }
   },
   "outputs": [
    {
     "data": {
      "text/html": [
       "<div>\n",
       "<style scoped>\n",
       "    .dataframe tbody tr th:only-of-type {\n",
       "        vertical-align: middle;\n",
       "    }\n",
       "\n",
       "    .dataframe tbody tr th {\n",
       "        vertical-align: top;\n",
       "    }\n",
       "\n",
       "    .dataframe thead th {\n",
       "        text-align: right;\n",
       "    }\n",
       "</style>\n",
       "<table border=\"1\" class=\"dataframe\">\n",
       "  <thead>\n",
       "    <tr style=\"text-align: right;\">\n",
       "      <th></th>\n",
       "      <th>id</th>\n",
       "      <th>comment_text</th>\n",
       "      <th>toxic</th>\n",
       "      <th>severe_toxic</th>\n",
       "      <th>obscene</th>\n",
       "      <th>threat</th>\n",
       "      <th>insult</th>\n",
       "      <th>identity_hate</th>\n",
       "    </tr>\n",
       "  </thead>\n",
       "  <tbody>\n",
       "    <tr>\n",
       "      <td>0</td>\n",
       "      <td>0000997932d777bf</td>\n",
       "      <td>Explanation\\nWhy the edits made under my usern...</td>\n",
       "      <td>0</td>\n",
       "      <td>0</td>\n",
       "      <td>0</td>\n",
       "      <td>0</td>\n",
       "      <td>0</td>\n",
       "      <td>0</td>\n",
       "    </tr>\n",
       "    <tr>\n",
       "      <td>1</td>\n",
       "      <td>000103f0d9cfb60f</td>\n",
       "      <td>D'aww! He matches this background colour I'm s...</td>\n",
       "      <td>0</td>\n",
       "      <td>0</td>\n",
       "      <td>0</td>\n",
       "      <td>0</td>\n",
       "      <td>0</td>\n",
       "      <td>0</td>\n",
       "    </tr>\n",
       "    <tr>\n",
       "      <td>2</td>\n",
       "      <td>000113f07ec002fd</td>\n",
       "      <td>Hey man, I'm really not trying to edit war. It...</td>\n",
       "      <td>0</td>\n",
       "      <td>0</td>\n",
       "      <td>0</td>\n",
       "      <td>0</td>\n",
       "      <td>0</td>\n",
       "      <td>0</td>\n",
       "    </tr>\n",
       "    <tr>\n",
       "      <td>3</td>\n",
       "      <td>0001b41b1c6bb37e</td>\n",
       "      <td>\"\\nMore\\nI can't make any real suggestions on ...</td>\n",
       "      <td>0</td>\n",
       "      <td>0</td>\n",
       "      <td>0</td>\n",
       "      <td>0</td>\n",
       "      <td>0</td>\n",
       "      <td>0</td>\n",
       "    </tr>\n",
       "    <tr>\n",
       "      <td>4</td>\n",
       "      <td>0001d958c54c6e35</td>\n",
       "      <td>You, sir, are my hero. Any chance you remember...</td>\n",
       "      <td>0</td>\n",
       "      <td>0</td>\n",
       "      <td>0</td>\n",
       "      <td>0</td>\n",
       "      <td>0</td>\n",
       "      <td>0</td>\n",
       "    </tr>\n",
       "  </tbody>\n",
       "</table>\n",
       "</div>"
      ],
      "text/plain": [
       "                 id                                       comment_text  toxic  \\\n",
       "0  0000997932d777bf  Explanation\\nWhy the edits made under my usern...      0   \n",
       "1  000103f0d9cfb60f  D'aww! He matches this background colour I'm s...      0   \n",
       "2  000113f07ec002fd  Hey man, I'm really not trying to edit war. It...      0   \n",
       "3  0001b41b1c6bb37e  \"\\nMore\\nI can't make any real suggestions on ...      0   \n",
       "4  0001d958c54c6e35  You, sir, are my hero. Any chance you remember...      0   \n",
       "\n",
       "   severe_toxic  obscene  threat  insult  identity_hate  \n",
       "0             0        0       0       0              0  \n",
       "1             0        0       0       0              0  \n",
       "2             0        0       0       0              0  \n",
       "3             0        0       0       0              0  \n",
       "4             0        0       0       0              0  "
      ]
     },
     "execution_count": 292,
     "metadata": {},
     "output_type": "execute_result"
    }
   ],
   "source": [
    "# Displaying first 5 comments\n",
    "kaggle_data.head()"
   ]
  },
  {
   "cell_type": "markdown",
   "metadata": {},
   "source": [
    "__Dataset w/ Toxic Comments Only:__"
   ]
  },
  {
   "cell_type": "markdown",
   "metadata": {},
   "source": [
    "Dataset with toxic comments is useful for topic modeling. This way we can identify some popular toxic topics under discussion. From the list of all possible comments, we select the one which includes one of the forms of toxicity as shown above in the dataframe."
   ]
  },
  {
   "cell_type": "code",
   "execution_count": 293,
   "metadata": {
    "ExecuteTime": {
     "end_time": "2020-05-21T05:08:15.512603Z",
     "start_time": "2020-05-21T05:08:08.134458Z"
    }
   },
   "outputs": [],
   "source": [
    "kaggle_toxic_comments_list = []\n",
    "\n",
    "for i in range(len(kaggle_data['comment_text'])):\n",
    "    if (kaggle_data['toxic'][i] == 1) or (kaggle_data['severe_toxic'][i] == 1) or (kaggle_data['obscene'][i] == 1) or (kaggle_data['threat'][i] == 1) or (kaggle_data['insult'][i] == 1) or (kaggle_data['identity_hate'][i] == 1):\n",
    "        kaggle_toxic_comments_list.append(kaggle_data['comment_text'][i])"
   ]
  },
  {
   "cell_type": "code",
   "execution_count": 294,
   "metadata": {
    "ExecuteTime": {
     "end_time": "2020-05-21T05:08:15.524957Z",
     "start_time": "2020-05-21T05:08:15.514422Z"
    }
   },
   "outputs": [
    {
     "data": {
      "text/html": [
       "<div>\n",
       "<style scoped>\n",
       "    .dataframe tbody tr th:only-of-type {\n",
       "        vertical-align: middle;\n",
       "    }\n",
       "\n",
       "    .dataframe tbody tr th {\n",
       "        vertical-align: top;\n",
       "    }\n",
       "\n",
       "    .dataframe thead th {\n",
       "        text-align: right;\n",
       "    }\n",
       "</style>\n",
       "<table border=\"1\" class=\"dataframe\">\n",
       "  <thead>\n",
       "    <tr style=\"text-align: right;\">\n",
       "      <th></th>\n",
       "      <th>toxic_comments</th>\n",
       "    </tr>\n",
       "  </thead>\n",
       "  <tbody>\n",
       "    <tr>\n",
       "      <td>0</td>\n",
       "      <td>COCKSUCKER BEFORE YOU PISS AROUND ON MY WORK</td>\n",
       "    </tr>\n",
       "    <tr>\n",
       "      <td>1</td>\n",
       "      <td>Hey... what is it..\\n@ | talk .\\nWhat is it......</td>\n",
       "    </tr>\n",
       "    <tr>\n",
       "      <td>2</td>\n",
       "      <td>Bye! \\n\\nDon't look, come or think of comming ...</td>\n",
       "    </tr>\n",
       "    <tr>\n",
       "      <td>3</td>\n",
       "      <td>You are gay or antisemmitian? \\n\\nArchangel WH...</td>\n",
       "    </tr>\n",
       "    <tr>\n",
       "      <td>4</td>\n",
       "      <td>FUCK YOUR FILTHY MOTHER IN THE ASS, DRY!</td>\n",
       "    </tr>\n",
       "  </tbody>\n",
       "</table>\n",
       "</div>"
      ],
      "text/plain": [
       "                                      toxic_comments\n",
       "0       COCKSUCKER BEFORE YOU PISS AROUND ON MY WORK\n",
       "1  Hey... what is it..\\n@ | talk .\\nWhat is it......\n",
       "2  Bye! \\n\\nDon't look, come or think of comming ...\n",
       "3  You are gay or antisemmitian? \\n\\nArchangel WH...\n",
       "4           FUCK YOUR FILTHY MOTHER IN THE ASS, DRY!"
      ]
     },
     "execution_count": 294,
     "metadata": {},
     "output_type": "execute_result"
    }
   ],
   "source": [
    "kaggle_toxic_comments_list = pd.DataFrame(kaggle_toxic_comments_list, columns=[\"toxic_comments\"]) \n",
    "kaggle_toxic_comments_list.head()"
   ]
  },
  {
   "cell_type": "markdown",
   "metadata": {},
   "source": [
    "As observed in the above dataframe, we need to do quite a bit of data cleaning in order to perform topic modeling. For this, we would need to lowercase all the words, remove any alphanumerics, remove words shorter than length 3 (usually don't mean much in terms of topic modeling), and so on. Since we plan to do the binary text classification (classifying if a comment is toxic or not (Part 3)), we will clean both the toxic comments and the complete list of comments."
   ]
  },
  {
   "cell_type": "markdown",
   "metadata": {},
   "source": [
    "## Data Preprocessing"
   ]
  },
  {
   "cell_type": "markdown",
   "metadata": {},
   "source": [
    "__Removing Alphanumerics & Punctuations and Lowercase Conversion:__"
   ]
  },
  {
   "cell_type": "code",
   "execution_count": 295,
   "metadata": {
    "ExecuteTime": {
     "end_time": "2020-05-21T05:08:51.273593Z",
     "start_time": "2020-05-21T05:08:51.263730Z"
    }
   },
   "outputs": [],
   "source": [
    "\"\"\"\n",
    "\"data_preprocessing\" function: Removes any alphanumerics and punctuations. Additionally, it lowercases the input text.\n",
    "\"\"\"\n",
    "def data_preprocessing(data):\n",
    "    alphanumeric = lambda x: re.sub('\\w*\\d\\w*', ' ', x)\n",
    "    punc_lower = lambda x: re.sub('[%s]' % re.escape(string.punctuation), ' ', x.lower())\n",
    "    \n",
    "    return data.map(alphanumeric).map(punc_lower)"
   ]
  },
  {
   "cell_type": "code",
   "execution_count": 296,
   "metadata": {
    "ExecuteTime": {
     "end_time": "2020-05-21T05:09:00.417388Z",
     "start_time": "2020-05-21T05:08:57.420835Z"
    }
   },
   "outputs": [],
   "source": [
    "# Toxic comments only\n",
    "kaggle_toxic_comments = data_preprocessing(kaggle_toxic_comments_list[\"toxic_comments\"])"
   ]
  },
  {
   "cell_type": "code",
   "execution_count": 297,
   "metadata": {
    "ExecuteTime": {
     "end_time": "2020-05-21T05:09:00.425294Z",
     "start_time": "2020-05-21T05:09:00.419366Z"
    }
   },
   "outputs": [
    {
     "data": {
      "text/plain": [
       "0         cocksucker before you piss around on my work\n",
       "1    hey    what is it  \\n    talk  \\nwhat is it   ...\n",
       "2    bye  \\n\\ndon t look  come or think of comming ...\n",
       "3    you are gay or antisemmitian  \\n\\narchangel wh...\n",
       "4             fuck your filthy mother in the ass  dry \n",
       "Name: toxic_comments, dtype: object"
      ]
     },
     "execution_count": 297,
     "metadata": {},
     "output_type": "execute_result"
    }
   ],
   "source": [
    "kaggle_toxic_comments[:5]"
   ]
  },
  {
   "cell_type": "code",
   "execution_count": 298,
   "metadata": {
    "ExecuteTime": {
     "end_time": "2020-05-21T05:09:14.605715Z",
     "start_time": "2020-05-21T05:09:01.726804Z"
    }
   },
   "outputs": [],
   "source": [
    "# Complete list of comments\n",
    "kaggle_comments_complete_list = data_preprocessing(kaggle_data[\"comment_text\"])"
   ]
  },
  {
   "cell_type": "markdown",
   "metadata": {},
   "source": [
    "__Removing Words Shorter Than Length 3:__"
   ]
  },
  {
   "cell_type": "code",
   "execution_count": 299,
   "metadata": {
    "ExecuteTime": {
     "end_time": "2020-05-21T05:09:14.611038Z",
     "start_time": "2020-05-21T05:09:14.607384Z"
    }
   },
   "outputs": [],
   "source": [
    "\"\"\"\n",
    "\"data_removingshortwords\" function: Removes any words shorter than length 3 in a given input text.\n",
    "\"\"\"\n",
    "def data_removingshortwords(data):\n",
    "    short_words = lambda x: re.sub(r'\\b\\w{1,2}\\b', '', x)\n",
    "    \n",
    "    return data.map(short_words)"
   ]
  },
  {
   "cell_type": "code",
   "execution_count": 300,
   "metadata": {
    "ExecuteTime": {
     "end_time": "2020-05-21T05:09:16.913893Z",
     "start_time": "2020-05-21T05:09:16.717413Z"
    }
   },
   "outputs": [],
   "source": [
    "# Toxic comments only\n",
    "kaggle_toxic_comments = data_removingshortwords(kaggle_toxic_comments)"
   ]
  },
  {
   "cell_type": "code",
   "execution_count": 301,
   "metadata": {
    "ExecuteTime": {
     "end_time": "2020-05-21T05:09:17.588590Z",
     "start_time": "2020-05-21T05:09:17.584412Z"
    }
   },
   "outputs": [
    {
     "data": {
      "text/plain": [
       "0             cocksucker before you piss around   work\n",
       "1    hey    what    \\n    talk  \\nwhat       exclus...\n",
       "2    bye  \\n\\ndon  look  come  think  comming back ...\n",
       "3    you are gay  antisemmitian  \\n\\narchangel whit...\n",
       "4               fuck your filthy mother  the ass  dry \n",
       "Name: toxic_comments, dtype: object"
      ]
     },
     "execution_count": 301,
     "metadata": {},
     "output_type": "execute_result"
    }
   ],
   "source": [
    "kaggle_toxic_comments[:5]"
   ]
  },
  {
   "cell_type": "code",
   "execution_count": 303,
   "metadata": {
    "ExecuteTime": {
     "end_time": "2020-05-21T05:09:25.639921Z",
     "start_time": "2020-05-21T05:09:24.188375Z"
    }
   },
   "outputs": [],
   "source": [
    "# Complete list of comments\n",
    "kaggle_comments_complete_list = data_removingshortwords(kaggle_comments_complete_list)"
   ]
  },
  {
   "cell_type": "markdown",
   "metadata": {},
   "source": [
    "__Removing Any Linebreaks:__"
   ]
  },
  {
   "cell_type": "code",
   "execution_count": 304,
   "metadata": {
    "ExecuteTime": {
     "end_time": "2020-05-21T05:09:27.238529Z",
     "start_time": "2020-05-21T05:09:27.234780Z"
    }
   },
   "outputs": [],
   "source": [
    "\"\"\"\n",
    "\"remove_linebreaks\" function: Removes any linebreaks in the text.\n",
    "\"\"\"\n",
    "def remove_linebreaks(data):\n",
    "    kaggle_comments_linebreaks_removed = []\n",
    "    for i in range(len(data)):\n",
    "        data[i] = data[i].replace('\\n',' ')\n",
    "        kaggle_comments_linebreaks_removed.append(data[i])\n",
    "    return kaggle_comments_linebreaks_removed"
   ]
  },
  {
   "cell_type": "code",
   "execution_count": 306,
   "metadata": {
    "ExecuteTime": {
     "end_time": "2020-05-21T05:09:34.616845Z",
     "start_time": "2020-05-21T05:09:34.608822Z"
    }
   },
   "outputs": [],
   "source": [
    "# Toxic comments only\n",
    "kaggle_toxic_comments = remove_linebreaks(kaggle_toxic_comments)"
   ]
  },
  {
   "cell_type": "code",
   "execution_count": 307,
   "metadata": {
    "ExecuteTime": {
     "end_time": "2020-05-21T05:09:35.412141Z",
     "start_time": "2020-05-21T05:09:35.407572Z"
    }
   },
   "outputs": [
    {
     "data": {
      "text/plain": [
       "['cocksucker before you piss around   work',\n",
       " 'hey    what         talk   what       exclusive group  some  talibans   who are good  destroying  self appointed purist who gang  any one who asks them questions abt their anti social and destructive  non  contribution     ask sityush  clean  his behavior than issue  nonsensical warnings   ',\n",
       " 'bye    don  look  come  think  comming back  tosser ',\n",
       " 'you are gay  antisemmitian    archangel white tiger  meow  greetingshhh     there are two ways  why you  erased  comment about    that holocaust was brutally slaying  jews and not gays gypsys slavs anyone          you are anti semitian  than shave your head bald and   the skinhead meetings        you doubt words  the bible  that homosexuality   deadly sin  make  pentagram tatoo  your forehead   the satanistic masses with your gay pals       first and last warning  you fucking gay    won  appreciate  any more nazi shwain would write   page   don  wish  talk  you anymore   beware  the dark side ',\n",
       " 'fuck your filthy mother  the ass  dry ']"
      ]
     },
     "execution_count": 307,
     "metadata": {},
     "output_type": "execute_result"
    }
   ],
   "source": [
    "kaggle_toxic_comments[:5]"
   ]
  },
  {
   "cell_type": "code",
   "execution_count": 308,
   "metadata": {
    "ExecuteTime": {
     "end_time": "2020-05-21T05:09:42.747551Z",
     "start_time": "2020-05-21T05:09:39.945154Z"
    }
   },
   "outputs": [],
   "source": [
    "# Complete list of comments\n",
    "kaggle_comments_complete_list = remove_linebreaks(kaggle_comments_complete_list)"
   ]
  },
  {
   "cell_type": "markdown",
   "metadata": {},
   "source": [
    "__Removing Any Whitespaces:__"
   ]
  },
  {
   "cell_type": "code",
   "execution_count": 309,
   "metadata": {
    "ExecuteTime": {
     "end_time": "2020-05-21T05:09:44.166889Z",
     "start_time": "2020-05-21T05:09:44.163137Z"
    }
   },
   "outputs": [],
   "source": [
    "\"\"\"\n",
    "\"remove_whitespace\" function: Removes white space.\n",
    "\"\"\"\n",
    "def remove_whitespace(data):\n",
    "    kaggle_comments_whitespace_removed = []\n",
    "    for i in range(len(data)):\n",
    "        data[i] = data[i].strip()\n",
    "        kaggle_comments_whitespace_removed.append(data[i])\n",
    "    return kaggle_comments_whitespace_removed"
   ]
  },
  {
   "cell_type": "code",
   "execution_count": 310,
   "metadata": {
    "ExecuteTime": {
     "end_time": "2020-05-21T05:09:46.371758Z",
     "start_time": "2020-05-21T05:09:46.361570Z"
    }
   },
   "outputs": [],
   "source": [
    "# Toxic comments only\n",
    "kaggle_toxic_comments = remove_whitespace(kaggle_toxic_comments)"
   ]
  },
  {
   "cell_type": "code",
   "execution_count": 311,
   "metadata": {
    "ExecuteTime": {
     "end_time": "2020-05-21T05:09:47.888511Z",
     "start_time": "2020-05-21T05:09:47.884903Z"
    }
   },
   "outputs": [
    {
     "data": {
      "text/plain": [
       "['cocksucker before you piss around   work',\n",
       " 'hey    what         talk   what       exclusive group  some  talibans   who are good  destroying  self appointed purist who gang  any one who asks them questions abt their anti social and destructive  non  contribution     ask sityush  clean  his behavior than issue  nonsensical warnings',\n",
       " 'bye    don  look  come  think  comming back  tosser',\n",
       " 'you are gay  antisemmitian    archangel white tiger  meow  greetingshhh     there are two ways  why you  erased  comment about    that holocaust was brutally slaying  jews and not gays gypsys slavs anyone          you are anti semitian  than shave your head bald and   the skinhead meetings        you doubt words  the bible  that homosexuality   deadly sin  make  pentagram tatoo  your forehead   the satanistic masses with your gay pals       first and last warning  you fucking gay    won  appreciate  any more nazi shwain would write   page   don  wish  talk  you anymore   beware  the dark side',\n",
       " 'fuck your filthy mother  the ass  dry']"
      ]
     },
     "execution_count": 311,
     "metadata": {},
     "output_type": "execute_result"
    }
   ],
   "source": [
    "kaggle_toxic_comments[:5]"
   ]
  },
  {
   "cell_type": "code",
   "execution_count": 312,
   "metadata": {
    "ExecuteTime": {
     "end_time": "2020-05-21T05:09:52.824142Z",
     "start_time": "2020-05-21T05:09:52.737595Z"
    }
   },
   "outputs": [],
   "source": [
    "# Complete list of comments\n",
    "kaggle_comments_complete_list = remove_whitespace(kaggle_comments_complete_list)"
   ]
  },
  {
   "cell_type": "markdown",
   "metadata": {},
   "source": [
    "__Removing Any Duplicated Space:__"
   ]
  },
  {
   "cell_type": "code",
   "execution_count": 313,
   "metadata": {
    "ExecuteTime": {
     "end_time": "2020-05-21T05:09:57.976442Z",
     "start_time": "2020-05-21T05:09:57.966774Z"
    }
   },
   "outputs": [],
   "source": [
    "\"\"\"\n",
    "\"remove_duplicatedspace\" function: Removes any duplicated white space.\n",
    "\"\"\"\n",
    "def remove_duplicatedspace(data):\n",
    "    kaggle_comments_duplicatedspace_removed = []\n",
    "    for i in range(len(data)):\n",
    "        data[i] = \" \".join(data[i].split())\n",
    "        kaggle_comments_duplicatedspace_removed.append(data[i])\n",
    "    return kaggle_comments_duplicatedspace_removed"
   ]
  },
  {
   "cell_type": "code",
   "execution_count": 314,
   "metadata": {
    "ExecuteTime": {
     "end_time": "2020-05-21T05:10:02.465537Z",
     "start_time": "2020-05-21T05:10:02.385876Z"
    }
   },
   "outputs": [],
   "source": [
    "# Toxic comments only\n",
    "kaggle_toxic_comments = remove_duplicatedspace(kaggle_toxic_comments)"
   ]
  },
  {
   "cell_type": "code",
   "execution_count": 315,
   "metadata": {
    "ExecuteTime": {
     "end_time": "2020-05-21T05:10:03.335560Z",
     "start_time": "2020-05-21T05:10:03.332202Z"
    }
   },
   "outputs": [
    {
     "data": {
      "text/plain": [
       "['cocksucker before you piss around work',\n",
       " 'hey what talk what exclusive group some talibans who are good destroying self appointed purist who gang any one who asks them questions abt their anti social and destructive non contribution ask sityush clean his behavior than issue nonsensical warnings',\n",
       " 'bye don look come think comming back tosser',\n",
       " 'you are gay antisemmitian archangel white tiger meow greetingshhh there are two ways why you erased comment about that holocaust was brutally slaying jews and not gays gypsys slavs anyone you are anti semitian than shave your head bald and the skinhead meetings you doubt words the bible that homosexuality deadly sin make pentagram tatoo your forehead the satanistic masses with your gay pals first and last warning you fucking gay won appreciate any more nazi shwain would write page don wish talk you anymore beware the dark side',\n",
       " 'fuck your filthy mother the ass dry']"
      ]
     },
     "execution_count": 315,
     "metadata": {},
     "output_type": "execute_result"
    }
   ],
   "source": [
    "kaggle_toxic_comments[:5]"
   ]
  },
  {
   "cell_type": "code",
   "execution_count": 316,
   "metadata": {
    "ExecuteTime": {
     "end_time": "2020-05-21T05:10:09.642363Z",
     "start_time": "2020-05-21T05:10:08.878149Z"
    }
   },
   "outputs": [],
   "source": [
    "# Complete list of comments\n",
    "kaggle_comments_complete_list = remove_duplicatedspace(kaggle_comments_complete_list)"
   ]
  },
  {
   "cell_type": "markdown",
   "metadata": {},
   "source": [
    "__Lemmatizing Tokens:__"
   ]
  },
  {
   "cell_type": "code",
   "execution_count": 317,
   "metadata": {
    "ExecuteTime": {
     "end_time": "2020-05-21T05:10:24.270261Z",
     "start_time": "2020-05-21T05:10:24.266076Z"
    }
   },
   "outputs": [],
   "source": [
    "\"\"\"\n",
    "\"lemmatizing\" function: Lemmatizes the input text or it converts it to its base form. \n",
    "\"\"\"\n",
    "def lemmatizing(data):\n",
    "    nlp = spacy.load('en_core_web_sm')\n",
    "    cleaned_text = []\n",
    "    for i in range(len(data)):\n",
    "        doc = nlp(data[i])\n",
    "        cleaned_text.append(\" \".join([token.lemma_ for token in doc]))\n",
    "\n",
    "    return cleaned_text"
   ]
  },
  {
   "cell_type": "code",
   "execution_count": 318,
   "metadata": {
    "ExecuteTime": {
     "end_time": "2020-05-21T05:13:07.167250Z",
     "start_time": "2020-05-21T05:10:27.258968Z"
    }
   },
   "outputs": [],
   "source": [
    "# Toxic comments only\n",
    "kaggle_toxic_comments_lemmatized = lemmatizing(kaggle_toxic_comments)"
   ]
  },
  {
   "cell_type": "code",
   "execution_count": 319,
   "metadata": {
    "ExecuteTime": {
     "end_time": "2020-05-21T05:13:07.172517Z",
     "start_time": "2020-05-21T05:13:07.168771Z"
    }
   },
   "outputs": [
    {
     "data": {
      "text/plain": [
       "['cocksucker before -PRON- piss around work',\n",
       " 'hey what talk what exclusive group some taliban who be good destroy self appoint purist who gang any one who ask -PRON- question abt -PRON- anti social and destructive non contribution ask sityush clean -PRON- behavior than issue nonsensical warning',\n",
       " 'bye don look come think comme back tosser',\n",
       " '-PRON- be gay antisemmitian archangel white tiger meow greetingshhh there be two way why -PRON- erase comment about that holocaust be brutally slay jew and not gay gypsys slavs anyone -PRON- be anti semitian than shave -PRON- head bald and the skinhead meeting -PRON- doubt word the bible that homosexuality deadly sin make pentagram tatoo -PRON- forehead the satanistic masse with -PRON- gay pal first and last warning -PRON- fucking gay won appreciate any more nazi shwain would write page don wish talk -PRON- anymore beware the dark side',\n",
       " 'fuck -PRON- filthy mother the ass dry']"
      ]
     },
     "execution_count": 319,
     "metadata": {},
     "output_type": "execute_result"
    }
   ],
   "source": [
    "kaggle_toxic_comments_lemmatized[:5]"
   ]
  },
  {
   "cell_type": "code",
   "execution_count": 320,
   "metadata": {
    "ExecuteTime": {
     "end_time": "2020-05-21T05:41:38.579373Z",
     "start_time": "2020-05-21T05:13:07.175517Z"
    }
   },
   "outputs": [],
   "source": [
    "# Complete list of comments\n",
    "kaggle_comments_complete_list_lemmatized = lemmatizing(kaggle_comments_complete_list)"
   ]
  },
  {
   "cell_type": "markdown",
   "metadata": {},
   "source": [
    "__Removing \"-PRON-\" Generated By Spacy Lemmatization:__"
   ]
  },
  {
   "cell_type": "code",
   "execution_count": 321,
   "metadata": {
    "ExecuteTime": {
     "end_time": "2020-05-21T05:41:38.601844Z",
     "start_time": "2020-05-21T05:41:38.588594Z"
    }
   },
   "outputs": [],
   "source": [
    "\"\"\"\n",
    "\"remove_pron\" function: Removes \"-PRON-\" generated by lemmatized pronouns when using spacy lemmatization.\n",
    "\"\"\"\n",
    "def remove_pron(data):\n",
    "    kaggle_comments_pron_removed = []\n",
    "    for i in range(len(data)):\n",
    "        data[i] = data[i].replace('-PRON-','')\n",
    "        kaggle_comments_pron_removed.append(data[i])\n",
    "    return kaggle_comments_pron_removed"
   ]
  },
  {
   "cell_type": "code",
   "execution_count": 322,
   "metadata": {
    "ExecuteTime": {
     "end_time": "2020-05-21T05:41:38.656704Z",
     "start_time": "2020-05-21T05:41:38.604202Z"
    }
   },
   "outputs": [],
   "source": [
    "# Toxic comments only\n",
    "kaggle_toxic_comments_lemmatized = remove_pron(kaggle_toxic_comments_lemmatized)"
   ]
  },
  {
   "cell_type": "code",
   "execution_count": 327,
   "metadata": {
    "ExecuteTime": {
     "end_time": "2020-05-21T05:43:30.571115Z",
     "start_time": "2020-05-21T05:43:30.567271Z"
    }
   },
   "outputs": [
    {
     "data": {
      "text/plain": [
       "['cocksucker before  piss around work',\n",
       " 'hey what talk what exclusive group some taliban who be good destroy self appoint purist who gang any one who ask  question abt  anti social and destructive non contribution ask sityush clean  behavior than issue nonsensical warning',\n",
       " 'bye don look come think comme back tosser',\n",
       " ' be gay antisemmitian archangel white tiger meow greetingshhh there be two way why  erase comment about that holocaust be brutally slay jew and not gay gypsys slavs anyone  be anti semitian than shave  head bald and the skinhead meeting  doubt word the bible that homosexuality deadly sin make pentagram tatoo  forehead the satanistic masse with  gay pal first and last warning  fucking gay won appreciate any more nazi shwain would write page don wish talk  anymore beware the dark side',\n",
       " 'fuck  filthy mother the ass dry']"
      ]
     },
     "execution_count": 327,
     "metadata": {},
     "output_type": "execute_result"
    }
   ],
   "source": [
    "kaggle_toxic_comments_lemmatized[:5]"
   ]
  },
  {
   "cell_type": "code",
   "execution_count": 328,
   "metadata": {
    "ExecuteTime": {
     "end_time": "2020-05-21T05:43:33.906252Z",
     "start_time": "2020-05-21T05:43:33.829855Z"
    }
   },
   "outputs": [],
   "source": [
    "# Complete list of comments\n",
    "kaggle_comments_complete_list_lemmatized = remove_pron(kaggle_comments_complete_list_lemmatized)"
   ]
  },
  {
   "cell_type": "markdown",
   "metadata": {},
   "source": [
    "__Further Removal of Short Words After Lemmatization:__"
   ]
  },
  {
   "cell_type": "code",
   "execution_count": 329,
   "metadata": {
    "ExecuteTime": {
     "end_time": "2020-05-21T05:43:39.676551Z",
     "start_time": "2020-05-21T05:43:39.352565Z"
    }
   },
   "outputs": [],
   "source": [
    "# Toxic comments only\n",
    "kaggle_toxic_comments_lemmatized_df = pd.DataFrame(kaggle_toxic_comments_lemmatized,columns=['toxic_comments'])"
   ]
  },
  {
   "cell_type": "code",
   "execution_count": 330,
   "metadata": {
    "ExecuteTime": {
     "end_time": "2020-05-21T05:43:56.419951Z",
     "start_time": "2020-05-21T05:43:56.268135Z"
    }
   },
   "outputs": [],
   "source": [
    "# Toxic comments only\n",
    "kaggle_toxic_comments_lemmatized = data_removingshortwords(kaggle_toxic_comments_lemmatized_df['toxic_comments'])"
   ]
  },
  {
   "cell_type": "code",
   "execution_count": 331,
   "metadata": {
    "ExecuteTime": {
     "end_time": "2020-05-21T05:43:57.127721Z",
     "start_time": "2020-05-21T05:43:57.119347Z"
    }
   },
   "outputs": [
    {
     "data": {
      "text/plain": [
       "0                  cocksucker before  piss around work\n",
       "1    hey what talk what exclusive group some taliba...\n",
       "2            bye don look come think comme back tosser\n",
       "3      gay antisemmitian archangel white tiger meow...\n",
       "4                      fuck  filthy mother the ass dry\n",
       "Name: toxic_comments, dtype: object"
      ]
     },
     "execution_count": 331,
     "metadata": {},
     "output_type": "execute_result"
    }
   ],
   "source": [
    "kaggle_toxic_comments_lemmatized[:5]"
   ]
  },
  {
   "cell_type": "code",
   "execution_count": 332,
   "metadata": {
    "ExecuteTime": {
     "end_time": "2020-05-21T05:44:06.519831Z",
     "start_time": "2020-05-21T05:44:06.500504Z"
    }
   },
   "outputs": [],
   "source": [
    "# Complete list of comments\n",
    "kaggle_comments_complete_list_lemmatized_df = pd.DataFrame(kaggle_comments_complete_list_lemmatized,columns=['comments'])\n"
   ]
  },
  {
   "cell_type": "code",
   "execution_count": 333,
   "metadata": {
    "ExecuteTime": {
     "end_time": "2020-05-21T05:44:08.908175Z",
     "start_time": "2020-05-21T05:44:07.467619Z"
    }
   },
   "outputs": [],
   "source": [
    "# Complete list of comments\n",
    "kaggle_comments_complete_list_lemmatized = data_removingshortwords(kaggle_comments_complete_list_lemmatized_df['comments'])"
   ]
  },
  {
   "cell_type": "markdown",
   "metadata": {},
   "source": [
    "__Further Removal of White Space:__"
   ]
  },
  {
   "cell_type": "markdown",
   "metadata": {},
   "source": [
    "Now, there are additional white spaces due to removal of words shorter than length 3. Thus, we remove those as shown below."
   ]
  },
  {
   "cell_type": "code",
   "execution_count": 334,
   "metadata": {
    "ExecuteTime": {
     "end_time": "2020-05-21T05:44:13.532575Z",
     "start_time": "2020-05-21T05:44:13.184787Z"
    }
   },
   "outputs": [],
   "source": [
    "# Toxic comments only\n",
    "kaggle_toxic_comments_lemmatized = remove_duplicatedspace(kaggle_toxic_comments_lemmatized)"
   ]
  },
  {
   "cell_type": "code",
   "execution_count": 335,
   "metadata": {
    "ExecuteTime": {
     "end_time": "2020-05-21T05:44:14.813767Z",
     "start_time": "2020-05-21T05:44:14.810147Z"
    }
   },
   "outputs": [
    {
     "data": {
      "text/plain": [
       "['cocksucker before piss around work',\n",
       " 'hey what talk what exclusive group some taliban who good destroy self appoint purist who gang any one who ask question abt anti social and destructive non contribution ask sityush clean behavior than issue nonsensical warning',\n",
       " 'bye don look come think comme back tosser',\n",
       " 'gay antisemmitian archangel white tiger meow greetingshhh there two way why erase comment about that holocaust brutally slay jew and not gay gypsys slavs anyone anti semitian than shave head bald and the skinhead meeting doubt word the bible that homosexuality deadly sin make pentagram tatoo forehead the satanistic masse with gay pal first and last warning fucking gay won appreciate any more nazi shwain would write page don wish talk anymore beware the dark side',\n",
       " 'fuck filthy mother the ass dry']"
      ]
     },
     "execution_count": 335,
     "metadata": {},
     "output_type": "execute_result"
    }
   ],
   "source": [
    "kaggle_toxic_comments_lemmatized[:5]"
   ]
  },
  {
   "cell_type": "code",
   "execution_count": 336,
   "metadata": {
    "ExecuteTime": {
     "end_time": "2020-05-21T05:44:23.543294Z",
     "start_time": "2020-05-21T05:44:20.188950Z"
    }
   },
   "outputs": [],
   "source": [
    "# Complete list of comments\n",
    "kaggle_comments_complete_list_lemmatized = remove_duplicatedspace(kaggle_comments_complete_list_lemmatized)"
   ]
  },
  {
   "cell_type": "markdown",
   "metadata": {},
   "source": [
    "After lemmatization, we extract only nouns and adjectives from the corpus. In general, nouns and adjectives are much more representative of topic under discussion in different comments/texts."
   ]
  },
  {
   "cell_type": "markdown",
   "metadata": {},
   "source": [
    "__Collecting Only Nouns and Adjectives From Corpus:__"
   ]
  },
  {
   "cell_type": "code",
   "execution_count": 337,
   "metadata": {
    "ExecuteTime": {
     "end_time": "2020-05-21T05:44:27.452221Z",
     "start_time": "2020-05-21T05:44:27.437775Z"
    }
   },
   "outputs": [],
   "source": [
    "\"\"\"\n",
    "Given a text, the following function tokenizes the text and pulls out only the nouns and adjectives.\n",
    "\"\"\"\n",
    "def nouns_adj(data):    \n",
    "    kaggle_comments_nouns_adj = []\n",
    "    for i in range(len(data)):\n",
    "        is_noun_adj = lambda pos: pos[:2] == 'NN' or pos[:2] == 'JJ'\n",
    "        tokenized = word_tokenize(data[i])\n",
    "        nouns_adj = [word for (word, pos) in pos_tag(tokenized) if is_noun_adj(pos)] \n",
    "        kaggle_comments_nouns_adj.append(' '.join(nouns_adj))\n",
    "    return kaggle_comments_nouns_adj"
   ]
  },
  {
   "cell_type": "code",
   "execution_count": 338,
   "metadata": {
    "ExecuteTime": {
     "end_time": "2020-05-21T05:45:01.677359Z",
     "start_time": "2020-05-21T05:44:31.054929Z"
    }
   },
   "outputs": [],
   "source": [
    "# Toxic comments only\n",
    "kaggle_toxic_comments_lemmatized_nouns_adj = nouns_adj(kaggle_toxic_comments_lemmatized)"
   ]
  },
  {
   "cell_type": "code",
   "execution_count": 339,
   "metadata": {
    "ExecuteTime": {
     "end_time": "2020-05-21T05:51:05.717390Z",
     "start_time": "2020-05-21T05:45:01.679406Z"
    }
   },
   "outputs": [],
   "source": [
    "# Complete list of comments\n",
    "kaggle_comments_complete_lemmatized_nouns_adj = nouns_adj(kaggle_comments_complete_list_lemmatized)"
   ]
  },
  {
   "cell_type": "markdown",
   "metadata": {
    "ExecuteTime": {
     "end_time": "2020-05-21T05:41:39.064731Z",
     "start_time": "2020-05-21T05:41:39.032791Z"
    }
   },
   "source": [
    "__Saving Lemmatized Corpora as csv Files:__"
   ]
  },
  {
   "cell_type": "code",
   "execution_count": 340,
   "metadata": {
    "ExecuteTime": {
     "end_time": "2020-05-21T05:51:05.725967Z",
     "start_time": "2020-05-21T05:51:05.720827Z"
    }
   },
   "outputs": [],
   "source": [
    "kaggle_toxic_comments_lemmatized_nouns_adj_df = pd.DataFrame(kaggle_toxic_comments_lemmatized_nouns_adj,columns = [\"toxic_comments\"])"
   ]
  },
  {
   "cell_type": "code",
   "execution_count": 341,
   "metadata": {
    "ExecuteTime": {
     "end_time": "2020-05-21T05:51:05.872055Z",
     "start_time": "2020-05-21T05:51:05.729033Z"
    }
   },
   "outputs": [],
   "source": [
    "kaggle_toxic_comments_lemmatized_nouns_adj_df.to_csv(r'../kaggle_toxic_comments_lemmatized_nouns_adj.csv')\n"
   ]
  },
  {
   "cell_type": "code",
   "execution_count": 342,
   "metadata": {
    "ExecuteTime": {
     "end_time": "2020-05-21T05:51:05.893536Z",
     "start_time": "2020-05-21T05:51:05.873887Z"
    }
   },
   "outputs": [],
   "source": [
    "kaggle_comments_complete_lemmatized_nouns_adj_df = pd.DataFrame(kaggle_comments_complete_lemmatized_nouns_adj,columns = [\"comments\"])"
   ]
  },
  {
   "cell_type": "code",
   "execution_count": 343,
   "metadata": {
    "ExecuteTime": {
     "end_time": "2020-05-21T05:51:06.859624Z",
     "start_time": "2020-05-21T05:51:05.895644Z"
    }
   },
   "outputs": [],
   "source": [
    "kaggle_comments_complete_lemmatized_nouns_adj_df.to_csv(r'../kaggle_comments_complete_lemmatized_nouns_adj.csv')"
   ]
  },
  {
   "cell_type": "markdown",
   "metadata": {},
   "source": [
    "## Word Cloud"
   ]
  },
  {
   "cell_type": "markdown",
   "metadata": {},
   "source": [
    "Word cloud shows the prominent words or the ones that appear frequently in the corpus."
   ]
  },
  {
   "cell_type": "code",
   "execution_count": 344,
   "metadata": {
    "ExecuteTime": {
     "end_time": "2020-05-21T05:51:07.173901Z",
     "start_time": "2020-05-21T05:51:06.861987Z"
    }
   },
   "outputs": [],
   "source": [
    "\"\"\"\n",
    "\"word_cloud\" function: Displays image with frequent words in the corpus.\n",
    "\"\"\"\n",
    "\n",
    "def word_cloud(data):\n",
    "    kaggle_string = ','.join(list(data.values))\n",
    "    wordcloud = WordCloud(collocations=False,background_color = \"white\", max_words = 5000, contour_width = 3, contour_color = 'steelblue')\n",
    "    wordcloud.generate(kaggle_string)\n",
    "    return wordcloud.to_image()\n",
    "# plt.savefig('wordcloud.png',dpi=600)"
   ]
  },
  {
   "cell_type": "markdown",
   "metadata": {},
   "source": [
    "__Word Cloud Using Toxic Comments:__"
   ]
  },
  {
   "cell_type": "code",
   "execution_count": 345,
   "metadata": {
    "ExecuteTime": {
     "end_time": "2020-05-21T05:51:07.939999Z",
     "start_time": "2020-05-21T05:51:07.178064Z"
    }
   },
   "outputs": [
    {
     "data": {
      "image/png": "[encoded data removed]",
      "text/plain": [
       "<PIL.Image.Image image mode=RGB size=400x200 at 0x1798C8110>"
      ]
     },
     "execution_count": 345,
     "metadata": {},
     "output_type": "execute_result"
    }
   ],
   "source": [
    "word_cloud(kaggle_toxic_comments_lemmatized_nouns_adj_df[\"toxic_comments\"])"
   ]
  },
  {
   "cell_type": "markdown",
   "metadata": {},
   "source": [
    "__Word Cloud Using All Comments:__"
   ]
  },
  {
   "cell_type": "code",
   "execution_count": 346,
   "metadata": {
    "ExecuteTime": {
     "end_time": "2020-05-21T05:51:13.371061Z",
     "start_time": "2020-05-21T05:51:07.943300Z"
    }
   },
   "outputs": [
    {
     "data": {
      "image/png": "[encoded data removed]",
      "text/plain": [
       "<PIL.Image.Image image mode=RGB size=400x200 at 0x174AC9E90>"
      ]
     },
     "execution_count": 346,
     "metadata": {},
     "output_type": "execute_result"
    }
   ],
   "source": [
    "word_cloud(kaggle_comments_complete_lemmatized_nouns_adj_df[\"comments\"])"
   ]
  },
  {
   "cell_type": "markdown",
   "metadata": {},
   "source": [
    "__Note: Part 2 Discusses Topic Modeling On Toxic Comments__"
   ]
  }
 ],
 "metadata": {
  "kernelspec": {
   "display_name": "Python 3",
   "language": "python",
   "name": "python3"
  },
  "language_info": {
   "codemirror_mode": {
    "name": "ipython",
    "version": 3
   },
   "file_extension": ".py",
   "mimetype": "text/x-python",
   "name": "python",
   "nbconvert_exporter": "python",
   "pygments_lexer": "ipython3",
   "version": "3.7.4"
  },
  "toc": {
   "base_numbering": 1,
   "nav_menu": {},
   "number_sections": true,
   "sideBar": true,
   "skip_h1_title": true,
   "title_cell": "Table of Contents",
   "title_sidebar": "Contents",
   "toc_cell": true,
   "toc_position": {},
   "toc_section_display": true,
   "toc_window_display": true
  }
 },
 "nbformat": 4,
 "nbformat_minor": 4
}
